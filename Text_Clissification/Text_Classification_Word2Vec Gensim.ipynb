{
 "cells": [
  {
   "cell_type": "code",
   "execution_count": 1,
   "id": "a348b462",
   "metadata": {},
   "outputs": [],
   "source": [
    "import gensim\n",
    "from gensim.models import word2vec\n",
    "from gensim.models.word2vec import Word2Vec\n",
    "import numpy as np\n",
    "import matplotlib.pyplot as plt\n",
    "import pandas as pd\n",
    "import spacy\n",
    "import string"
   ]
  },
  {
   "cell_type": "code",
   "execution_count": 2,
   "id": "6e0b2a16",
   "metadata": {},
   "outputs": [
    {
     "data": {
      "text/plain": [
       "'4.3.0'"
      ]
     },
     "execution_count": 2,
     "metadata": {},
     "output_type": "execute_result"
    }
   ],
   "source": [
    "gensim.__version__"
   ]
  },
  {
   "cell_type": "code",
   "execution_count": 3,
   "id": "c32a12a5",
   "metadata": {},
   "outputs": [],
   "source": [
    "np.random.seed(42)"
   ]
  },
  {
   "cell_type": "code",
   "execution_count": 4,
   "id": "0bd89756",
   "metadata": {},
   "outputs": [],
   "source": [
    "import gensim.downloader as api"
   ]
  },
  {
   "cell_type": "code",
   "execution_count": 5,
   "id": "8ac2c23d",
   "metadata": {},
   "outputs": [],
   "source": [
    "wv = api.load('glove-twitter-50')"
   ]
  },
  {
   "cell_type": "code",
   "execution_count": 6,
   "id": "5ce3d319",
   "metadata": {},
   "outputs": [
    {
     "data": {
      "text/plain": [
       "gensim.models.keyedvectors.KeyedVectors"
      ]
     },
     "execution_count": 6,
     "metadata": {},
     "output_type": "execute_result"
    }
   ],
   "source": [
    "type(wv)"
   ]
  },
  {
   "cell_type": "code",
   "execution_count": 7,
   "id": "e5dec39b",
   "metadata": {},
   "outputs": [
    {
     "data": {
      "text/plain": [
       "(50,)"
      ]
     },
     "execution_count": 7,
     "metadata": {},
     "output_type": "execute_result"
    }
   ],
   "source": [
    "wv['apple'].shape"
   ]
  },
  {
   "cell_type": "code",
   "execution_count": 8,
   "id": "039bfdc4",
   "metadata": {},
   "outputs": [
    {
     "data": {
      "text/plain": [
       "50"
      ]
     },
     "execution_count": 8,
     "metadata": {},
     "output_type": "execute_result"
    }
   ],
   "source": [
    "len(wv['apple'])"
   ]
  },
  {
   "cell_type": "code",
   "execution_count": 9,
   "id": "29b701d0",
   "metadata": {},
   "outputs": [
    {
     "data": {
      "text/plain": [
       "0.52897877"
      ]
     },
     "execution_count": 9,
     "metadata": {},
     "output_type": "execute_result"
    }
   ],
   "source": [
    "wv.similarity(\"apple\", \"mango\")"
   ]
  },
  {
   "cell_type": "code",
   "execution_count": 10,
   "id": "53675ac8",
   "metadata": {},
   "outputs": [
    {
     "data": {
      "text/plain": [
       "0.0064160377"
      ]
     },
     "execution_count": 10,
     "metadata": {},
     "output_type": "execute_result"
    }
   ],
   "source": [
    "wv.similarity(\"communism\", \"car\")"
   ]
  },
  {
   "cell_type": "code",
   "execution_count": 11,
   "id": "5f0be9de",
   "metadata": {},
   "outputs": [
    {
     "name": "stdout",
     "output_type": "stream",
     "text": [
      "[('truck', 0.8638960719108582), ('driving', 0.8150991201400757), ('airplane', 0.8137863874435425), ('parked', 0.8027330636978149), ('drove', 0.8020968437194824)]\n"
     ]
    }
   ],
   "source": [
    "print(wv.most_similar(positive=['car', 'minivan'], topn=5))"
   ]
  },
  {
   "cell_type": "code",
   "execution_count": 12,
   "id": "2aca4b4e",
   "metadata": {},
   "outputs": [],
   "source": [
    "# wv.save('/content/drive/MyDrive/Content Creation/Youtube Tutorials/vectors.kv')\n",
    "#from gensim.models import KeyedVectors\n",
    "#wv = KeyedVectors.load('/content/drive/MyDrive/Content Creation/Youtube Tutorials/vectors.kv')"
   ]
  },
  {
   "cell_type": "code",
   "execution_count": 13,
   "id": "9809e223",
   "metadata": {},
   "outputs": [
    {
     "name": "stdout",
     "output_type": "stream",
     "text": [
      "sea\n"
     ]
    }
   ],
   "source": [
    "print(wv.doesnt_match(['fire', 'water', 'land', 'sea', 'air', 'car']))"
   ]
  },
  {
   "cell_type": "code",
   "execution_count": 14,
   "id": "5c4e5467",
   "metadata": {},
   "outputs": [],
   "source": [
    "words = [\"one\",'two','man','woman','table']"
   ]
  },
  {
   "cell_type": "code",
   "execution_count": 15,
   "id": "8a1ff07b",
   "metadata": {},
   "outputs": [
    {
     "data": {
      "text/plain": [
       "array([[-0.2804223 ,  1.5896978 ],\n",
       "       [ 0.5923978 ,  1.9831201 ],\n",
       "       [-2.577764  , -1.6972469 ],\n",
       "       [-1.0547671 , -0.25685552],\n",
       "       [ 3.3205562 , -1.6187147 ]], dtype=float32)"
      ]
     },
     "execution_count": 15,
     "metadata": {},
     "output_type": "execute_result"
    }
   ],
   "source": [
    "sample_vectors = np.array([wv[word] for word in words])\n",
    "from sklearn.decomposition import PCA\n",
    "pca = PCA(n_components=2)\n",
    "result = pca.fit_transform(sample_vectors)\n",
    "result"
   ]
  },
  {
   "cell_type": "code",
   "execution_count": 16,
   "id": "9e8171eb",
   "metadata": {},
   "outputs": [
    {
     "data": {
      "image/png": "[encoded data removed]",
      "text/plain": [
       "<Figure size 1200x1200 with 1 Axes>"
      ]
     },
     "metadata": {},
     "output_type": "display_data"
    }
   ],
   "source": [
    "plt.figure(figsize=(12,12))\n",
    "plt.scatter(result[:,0], result[:,1])\n",
    "for i, word in enumerate(words):\n",
    "    plt.annotate(word, xy=(result[i, 0], result[i, 1]))\n",
    "plt.show()"
   ]
  },
  {
   "cell_type": "code",
   "execution_count": 17,
   "id": "7c05fa47",
   "metadata": {},
   "outputs": [
    {
     "data": {
      "text/html": [
       "<div>\n",
       "<style scoped>\n",
       "    .dataframe tbody tr th:only-of-type {\n",
       "        vertical-align: middle;\n",
       "    }\n",
       "\n",
       "    .dataframe tbody tr th {\n",
       "        vertical-align: top;\n",
       "    }\n",
       "\n",
       "    .dataframe thead th {\n",
       "        text-align: right;\n",
       "    }\n",
       "</style>\n",
       "<table border=\"1\" class=\"dataframe\">\n",
       "  <thead>\n",
       "    <tr style=\"text-align: right;\">\n",
       "      <th></th>\n",
       "      <th>comment_text</th>\n",
       "      <th>toxic</th>\n",
       "    </tr>\n",
       "  </thead>\n",
       "  <tbody>\n",
       "    <tr>\n",
       "      <th>996</th>\n",
       "      <td>It is common knowledge that Karaims (but not K...</td>\n",
       "      <td>0</td>\n",
       "    </tr>\n",
       "    <tr>\n",
       "      <th>997</th>\n",
       "      <td>, 12 April 2006 (UTC)\\nThen rewrite and expand...</td>\n",
       "      <td>0</td>\n",
       "    </tr>\n",
       "    <tr>\n",
       "      <th>998</th>\n",
       "      <td>\"I was trying to inject some humour (as eviden...</td>\n",
       "      <td>0</td>\n",
       "    </tr>\n",
       "    <tr>\n",
       "      <th>999</th>\n",
       "      <td>And it looks like it was actually you who put ...</td>\n",
       "      <td>0</td>\n",
       "    </tr>\n",
       "    <tr>\n",
       "      <th>1000</th>\n",
       "      <td>\"\\nAnd ... I really don't think you understand...</td>\n",
       "      <td>0</td>\n",
       "    </tr>\n",
       "  </tbody>\n",
       "</table>\n",
       "</div>"
      ],
      "text/plain": [
       "                                           comment_text  toxic\n",
       "996   It is common knowledge that Karaims (but not K...      0\n",
       "997   , 12 April 2006 (UTC)\\nThen rewrite and expand...      0\n",
       "998   \"I was trying to inject some humour (as eviden...      0\n",
       "999   And it looks like it was actually you who put ...      0\n",
       "1000  \"\\nAnd ... I really don't think you understand...      0"
      ]
     },
     "execution_count": 17,
     "metadata": {},
     "output_type": "execute_result"
    }
   ],
   "source": [
    "data = pd.read_csv(\"D:\\\\Data\\\\NLP\\\\pradip\\\\toxic_commnets.csv\",on_bad_lines='error',skiprows = range(1000, 159570), engine=\"python\")\n",
    "data.tail()"
   ]
  },
  {
   "cell_type": "code",
   "execution_count": 18,
   "id": "6ea49932",
   "metadata": {},
   "outputs": [],
   "source": [
    "def sent_vec(sent):\n",
    "    vector_size = wv.vector_size\n",
    "    wv_res = np.zeros(vector_size)\n",
    "    # print(wv_res)\n",
    "    ctr = 1\n",
    "    for w in sent:\n",
    "        if w in wv:\n",
    "            ctr += 1\n",
    "            wv_res += wv[w]\n",
    "    wv_res = wv_res/ctr\n",
    "    return wv_res"
   ]
  },
  {
   "cell_type": "code",
   "execution_count": 19,
   "id": "894ca059",
   "metadata": {},
   "outputs": [],
   "source": [
    "# Creating our tokenizer function\n",
    "def spacy_tokenizer(sentence):\n",
    "    # Creating our token object, which is used to create documents with linguistic annotations.\n",
    "    doc = nlp(sentence)\n",
    "\n",
    "\n",
    "\n",
    "    # print(doc)\n",
    "    # print(type(doc))\n",
    "\n",
    "    # Lemmatizing each token and converting each token into lowercase\n",
    "    mytokens = [ word.lemma_.lower().strip() for word in doc ]\n",
    "\n",
    "    # print(mytokens)\n",
    "\n",
    "    # Removing stop words\n",
    "    mytokens = [ word for word in mytokens if word not in stop_words and word not in punctuations ]\n",
    "\n",
    "    # return preprocessed list of tokens\n",
    "    return mytokens"
   ]
  },
  {
   "cell_type": "code",
   "execution_count": 20,
   "id": "6921ca47",
   "metadata": {},
   "outputs": [
    {
     "name": "stdout",
     "output_type": "stream",
     "text": [
      "{'others', 'as', 'many', 'though', 'any', 'or', 'had', 'us', 'else', 'under', 'why', 'forty', 'could', 'also', 'me', 'there', 'made', 'say', 'give', 'further', 'although', 'someone', 'somehow', 'fifty', 'full', 'whereby', 'around', 'another', 'nor', 'indeed', 'are', 'becomes', 'former', 'whoever', 'were', 'much', 'same', '’ll', 'every', 'besides', 'last', '’s', 'first', 'i', 'everyone', 'part', 'even', 'well', 'against', 'moreover', 're', 'have', 'neither', 'thereafter', 'you', 'when', 'anyhow', 'therein', 'few', 'here', 'out', 'the', '‘re', 'a', 'below', 'them', 'up', 'all', 'who', 'hereby', 'an', 'whole', 'thereupon', 'rather', '‘ll', 'from', 'nevertheless', 'still', 'he', 'at', 'should', 'onto', 'her', 'sometimes', 'my', 'whether', 'cannot', 'into', 'either', 'nobody', 'yet', 'among', 'alone', 'less', 'top', 'beforehand', 'everything', 'however', 'since', 'become', 'bottom', 'it', 'than', 'see', 'anything', 'its', 'for', 'already', 'again', 'two', 'third', 'through', 'everywhere', 'so', 'very', '‘d', 'make', 'such', 'herein', 'various', 'must', 'whereafter', 'mine', 'nine', 'now', 'back', 'several', \"n't\", 'serious', 'never', \"'ll\", 'beside', 'twenty', 'more', 'herself', 'wherein', 'that', 'eleven', 'something', 'too', 'became', 'where', 'anyway', 'your', 'show', 'just', 'per', 'sometime', 'except', 'together', 'done', 'enough', 'whose', 'put', 'because', 'beyond', 'without', 'with', '’m', 'within', \"'re\", \"'d\", 'am', 'four', 'of', 'anyone', 'off', 'over', 'hundred', 'call', 'ca', 'thence', 'itself', 'behind', 'latterly', 'nowhere', 'both', 'in', 'to', 'otherwise', 'but', 'regarding', 'their', 'do', 'seeming', 'be', 'during', 'on', 'once', 'ever', 'towards', 'least', 'really', 'due', 'if', 'n’t', 'becoming', 'was', 'perhaps', 'seemed', 'front', 'therefore', 'above', 'toward', 'our', 'this', 'mostly', 'only', 'himself', 'no', 'five', '’d', 'these', 'doing', 'what', 'whither', 'move', 'always', 'upon', 'seems', \"'ve\", 'afterwards', 'she', 'ten', 'thru', 'anywhere', 'whereupon', 'elsewhere', 'him', 'myself', 'thus', 'name', 'is', '‘m', '‘s', 'yourselves', 'themselves', 'throughout', 'yourself', 'whenever', 'whom', 'noone', 'go', 'about', 'which', 'between', 'how', 'whereas', 'twelve', 'those', 'we', 'please', 'one', 'not', 'via', 'did', 'next', 'across', 'will', 'whatever', '’ve', 'wherever', '’re', 'yours', 'each', 'they', 'other', 'does', 'until', 'empty', 'ours', 'often', 'along', 'seem', 'none', \"'m\", 'take', 'can', 'meanwhile', 'while', 'using', 'and', 'eight', 'his', 'whence', 'may', 'has', 'ourselves', 'after', 'might', 'side', 'keep', 'quite', 'most', 'hence', 'then', 'hereupon', 'would', 'before', 'formerly', 'n‘t', 'used', 'thereby', \"'s\", 'some', '‘ve', 'six', 'somewhere', 'own', 'been', 'almost', 'sixty', 'namely', 'nothing', 'being', 'get', 'fifteen', 'hereafter', 'amongst', 'by', 'amount', 'hers', 'three', 'down', 'unless', 'latter'}\n"
     ]
    }
   ],
   "source": [
    "nlp = spacy.load(\"en_core_web_sm\")\n",
    "stop_words = nlp.Defaults.stop_words\n",
    "print(stop_words)"
   ]
  },
  {
   "cell_type": "code",
   "execution_count": 21,
   "id": "2520af74",
   "metadata": {},
   "outputs": [
    {
     "name": "stdout",
     "output_type": "stream",
     "text": [
      "!\"#$%&'()*+,-./:;<=>?@[\\]^_`{|}~\n"
     ]
    }
   ],
   "source": [
    "punctuations = string.punctuation\n",
    "print(punctuations)"
   ]
  },
  {
   "cell_type": "code",
   "execution_count": 22,
   "id": "c6d91374",
   "metadata": {},
   "outputs": [],
   "source": [
    "data['tokens'] = data['comment_text'].apply(spacy_tokenizer)"
   ]
  },
  {
   "cell_type": "code",
   "execution_count": 23,
   "id": "1f3eb022",
   "metadata": {},
   "outputs": [
    {
     "data": {
      "text/html": [
       "<div>\n",
       "<style scoped>\n",
       "    .dataframe tbody tr th:only-of-type {\n",
       "        vertical-align: middle;\n",
       "    }\n",
       "\n",
       "    .dataframe tbody tr th {\n",
       "        vertical-align: top;\n",
       "    }\n",
       "\n",
       "    .dataframe thead th {\n",
       "        text-align: right;\n",
       "    }\n",
       "</style>\n",
       "<table border=\"1\" class=\"dataframe\">\n",
       "  <thead>\n",
       "    <tr style=\"text-align: right;\">\n",
       "      <th></th>\n",
       "      <th>comment_text</th>\n",
       "      <th>toxic</th>\n",
       "      <th>tokens</th>\n",
       "    </tr>\n",
       "  </thead>\n",
       "  <tbody>\n",
       "    <tr>\n",
       "      <th>996</th>\n",
       "      <td>It is common knowledge that Karaims (but not K...</td>\n",
       "      <td>0</td>\n",
       "      <td>[common, knowledge, karaims, karaite, jews, bo...</td>\n",
       "    </tr>\n",
       "    <tr>\n",
       "      <th>997</th>\n",
       "      <td>, 12 April 2006 (UTC)\\nThen rewrite and expand...</td>\n",
       "      <td>0</td>\n",
       "      <td>[12, april, 2006, utc, rewrite, expand, articl...</td>\n",
       "    </tr>\n",
       "    <tr>\n",
       "      <th>998</th>\n",
       "      <td>\"I was trying to inject some humour (as eviden...</td>\n",
       "      <td>0</td>\n",
       "      <td>[try, inject, humour, evidence, winky, face, r...</td>\n",
       "    </tr>\n",
       "    <tr>\n",
       "      <th>999</th>\n",
       "      <td>And it looks like it was actually you who put ...</td>\n",
       "      <td>0</td>\n",
       "      <td>[look, like, actually, speedy, version, delete...</td>\n",
       "    </tr>\n",
       "    <tr>\n",
       "      <th>1000</th>\n",
       "      <td>\"\\nAnd ... I really don't think you understand...</td>\n",
       "      <td>0</td>\n",
       "      <td>[..., think, understand, come, idea, bad, righ...</td>\n",
       "    </tr>\n",
       "  </tbody>\n",
       "</table>\n",
       "</div>"
      ],
      "text/plain": [
       "                                           comment_text  toxic  \\\n",
       "996   It is common knowledge that Karaims (but not K...      0   \n",
       "997   , 12 April 2006 (UTC)\\nThen rewrite and expand...      0   \n",
       "998   \"I was trying to inject some humour (as eviden...      0   \n",
       "999   And it looks like it was actually you who put ...      0   \n",
       "1000  \"\\nAnd ... I really don't think you understand...      0   \n",
       "\n",
       "                                                 tokens  \n",
       "996   [common, knowledge, karaims, karaite, jews, bo...  \n",
       "997   [12, april, 2006, utc, rewrite, expand, articl...  \n",
       "998   [try, inject, humour, evidence, winky, face, r...  \n",
       "999   [look, like, actually, speedy, version, delete...  \n",
       "1000  [..., think, understand, come, idea, bad, righ...  "
      ]
     },
     "execution_count": 23,
     "metadata": {},
     "output_type": "execute_result"
    }
   ],
   "source": [
    "data.tail()"
   ]
  },
  {
   "cell_type": "code",
   "execution_count": 24,
   "id": "73e31376",
   "metadata": {},
   "outputs": [],
   "source": [
    "data['vec'] = data['tokens'].apply(sent_vec)"
   ]
  },
  {
   "cell_type": "code",
   "execution_count": 25,
   "id": "d10d3331",
   "metadata": {},
   "outputs": [
    {
     "data": {
      "text/html": [
       "<div>\n",
       "<style scoped>\n",
       "    .dataframe tbody tr th:only-of-type {\n",
       "        vertical-align: middle;\n",
       "    }\n",
       "\n",
       "    .dataframe tbody tr th {\n",
       "        vertical-align: top;\n",
       "    }\n",
       "\n",
       "    .dataframe thead th {\n",
       "        text-align: right;\n",
       "    }\n",
       "</style>\n",
       "<table border=\"1\" class=\"dataframe\">\n",
       "  <thead>\n",
       "    <tr style=\"text-align: right;\">\n",
       "      <th></th>\n",
       "      <th>comment_text</th>\n",
       "      <th>toxic</th>\n",
       "      <th>tokens</th>\n",
       "      <th>vec</th>\n",
       "    </tr>\n",
       "  </thead>\n",
       "  <tbody>\n",
       "    <tr>\n",
       "      <th>996</th>\n",
       "      <td>It is common knowledge that Karaims (but not K...</td>\n",
       "      <td>0</td>\n",
       "      <td>[common, knowledge, karaims, karaite, jews, bo...</td>\n",
       "      <td>[0.1309487509308383, 0.21662285118363797, -0.0...</td>\n",
       "    </tr>\n",
       "    <tr>\n",
       "      <th>997</th>\n",
       "      <td>, 12 April 2006 (UTC)\\nThen rewrite and expand...</td>\n",
       "      <td>0</td>\n",
       "      <td>[12, april, 2006, utc, rewrite, expand, articl...</td>\n",
       "      <td>[0.3409243705808311, 0.08504862262791879, -0.2...</td>\n",
       "    </tr>\n",
       "    <tr>\n",
       "      <th>998</th>\n",
       "      <td>\"I was trying to inject some humour (as eviden...</td>\n",
       "      <td>0</td>\n",
       "      <td>[try, inject, humour, evidence, winky, face, r...</td>\n",
       "      <td>[0.48384144321522293, 0.3974905873275181, -0.0...</td>\n",
       "    </tr>\n",
       "    <tr>\n",
       "      <th>999</th>\n",
       "      <td>And it looks like it was actually you who put ...</td>\n",
       "      <td>0</td>\n",
       "      <td>[look, like, actually, speedy, version, delete...</td>\n",
       "      <td>[-0.07601512782275677, 0.12494449876248837, -0...</td>\n",
       "    </tr>\n",
       "    <tr>\n",
       "      <th>1000</th>\n",
       "      <td>\"\\nAnd ... I really don't think you understand...</td>\n",
       "      <td>0</td>\n",
       "      <td>[..., think, understand, come, idea, bad, righ...</td>\n",
       "      <td>[0.29265500884503126, 0.1710946881212294, 0.04...</td>\n",
       "    </tr>\n",
       "  </tbody>\n",
       "</table>\n",
       "</div>"
      ],
      "text/plain": [
       "                                           comment_text  toxic  \\\n",
       "996   It is common knowledge that Karaims (but not K...      0   \n",
       "997   , 12 April 2006 (UTC)\\nThen rewrite and expand...      0   \n",
       "998   \"I was trying to inject some humour (as eviden...      0   \n",
       "999   And it looks like it was actually you who put ...      0   \n",
       "1000  \"\\nAnd ... I really don't think you understand...      0   \n",
       "\n",
       "                                                 tokens  \\\n",
       "996   [common, knowledge, karaims, karaite, jews, bo...   \n",
       "997   [12, april, 2006, utc, rewrite, expand, articl...   \n",
       "998   [try, inject, humour, evidence, winky, face, r...   \n",
       "999   [look, like, actually, speedy, version, delete...   \n",
       "1000  [..., think, understand, come, idea, bad, righ...   \n",
       "\n",
       "                                                    vec  \n",
       "996   [0.1309487509308383, 0.21662285118363797, -0.0...  \n",
       "997   [0.3409243705808311, 0.08504862262791879, -0.2...  \n",
       "998   [0.48384144321522293, 0.3974905873275181, -0.0...  \n",
       "999   [-0.07601512782275677, 0.12494449876248837, -0...  \n",
       "1000  [0.29265500884503126, 0.1710946881212294, 0.04...  "
      ]
     },
     "execution_count": 25,
     "metadata": {},
     "output_type": "execute_result"
    }
   ],
   "source": [
    "data.tail()"
   ]
  },
  {
   "cell_type": "code",
   "execution_count": 26,
   "id": "e03ecbcb",
   "metadata": {},
   "outputs": [],
   "source": [
    "X = data['vec'].to_list()\n",
    "y = data['toxic'].to_list()"
   ]
  },
  {
   "cell_type": "code",
   "execution_count": 27,
   "id": "f1fe3512",
   "metadata": {},
   "outputs": [],
   "source": [
    "from sklearn.model_selection import train_test_split\n",
    "X_train, X_test, y_train, y_test = train_test_split(X, y, test_size=0.2,stratify=y)"
   ]
  },
  {
   "cell_type": "code",
   "execution_count": 28,
   "id": "6f5c1470",
   "metadata": {},
   "outputs": [],
   "source": [
    "from sklearn.linear_model import LogisticRegression\n",
    "classifier = LogisticRegression()"
   ]
  },
  {
   "cell_type": "code",
   "execution_count": 29,
   "id": "67a8b227",
   "metadata": {},
   "outputs": [
    {
     "data": {
      "text/html": [
       "<style>#sk-container-id-1 {color: black;background-color: white;}#sk-container-id-1 pre{padding: 0;}#sk-container-id-1 div.sk-toggleable {background-color: white;}#sk-container-id-1 label.sk-toggleable__label {cursor: pointer;display: block;width: 100%;margin-bottom: 0;padding: 0.3em;box-sizing: border-box;text-align: center;}#sk-container-id-1 label.sk-toggleable__label-arrow:before {content: \"▸\";float: left;margin-right: 0.25em;color: #696969;}#sk-container-id-1 label.sk-toggleable__label-arrow:hover:before {color: black;}#sk-container-id-1 div.sk-estimator:hover label.sk-toggleable__label-arrow:before {color: black;}#sk-container-id-1 div.sk-toggleable__content {max-height: 0;max-width: 0;overflow: hidden;text-align: left;background-color: #f0f8ff;}#sk-container-id-1 div.sk-toggleable__content pre {margin: 0.2em;color: black;border-radius: 0.25em;background-color: #f0f8ff;}#sk-container-id-1 input.sk-toggleable__control:checked~div.sk-toggleable__content {max-height: 200px;max-width: 100%;overflow: auto;}#sk-container-id-1 input.sk-toggleable__control:checked~label.sk-toggleable__label-arrow:before {content: \"▾\";}#sk-container-id-1 div.sk-estimator input.sk-toggleable__control:checked~label.sk-toggleable__label {background-color: #d4ebff;}#sk-container-id-1 div.sk-label input.sk-toggleable__control:checked~label.sk-toggleable__label {background-color: #d4ebff;}#sk-container-id-1 input.sk-hidden--visually {border: 0;clip: rect(1px 1px 1px 1px);clip: rect(1px, 1px, 1px, 1px);height: 1px;margin: -1px;overflow: hidden;padding: 0;position: absolute;width: 1px;}#sk-container-id-1 div.sk-estimator {font-family: monospace;background-color: #f0f8ff;border: 1px dotted black;border-radius: 0.25em;box-sizing: border-box;margin-bottom: 0.5em;}#sk-container-id-1 div.sk-estimator:hover {background-color: #d4ebff;}#sk-container-id-1 div.sk-parallel-item::after {content: \"\";width: 100%;border-bottom: 1px solid gray;flex-grow: 1;}#sk-container-id-1 div.sk-label:hover label.sk-toggleable__label {background-color: #d4ebff;}#sk-container-id-1 div.sk-serial::before {content: \"\";position: absolute;border-left: 1px solid gray;box-sizing: border-box;top: 0;bottom: 0;left: 50%;z-index: 0;}#sk-container-id-1 div.sk-serial {display: flex;flex-direction: column;align-items: center;background-color: white;padding-right: 0.2em;padding-left: 0.2em;position: relative;}#sk-container-id-1 div.sk-item {position: relative;z-index: 1;}#sk-container-id-1 div.sk-parallel {display: flex;align-items: stretch;justify-content: center;background-color: white;position: relative;}#sk-container-id-1 div.sk-item::before, #sk-container-id-1 div.sk-parallel-item::before {content: \"\";position: absolute;border-left: 1px solid gray;box-sizing: border-box;top: 0;bottom: 0;left: 50%;z-index: -1;}#sk-container-id-1 div.sk-parallel-item {display: flex;flex-direction: column;z-index: 1;position: relative;background-color: white;}#sk-container-id-1 div.sk-parallel-item:first-child::after {align-self: flex-end;width: 50%;}#sk-container-id-1 div.sk-parallel-item:last-child::after {align-self: flex-start;width: 50%;}#sk-container-id-1 div.sk-parallel-item:only-child::after {width: 0;}#sk-container-id-1 div.sk-dashed-wrapped {border: 1px dashed gray;margin: 0 0.4em 0.5em 0.4em;box-sizing: border-box;padding-bottom: 0.4em;background-color: white;}#sk-container-id-1 div.sk-label label {font-family: monospace;font-weight: bold;display: inline-block;line-height: 1.2em;}#sk-container-id-1 div.sk-label-container {text-align: center;}#sk-container-id-1 div.sk-container {/* jupyter's `normalize.less` sets `[hidden] { display: none; }` but bootstrap.min.css set `[hidden] { display: none !important; }` so we also need the `!important` here to be able to override the default hidden behavior on the sphinx rendered scikit-learn.org. See: https://github.com/scikit-learn/scikit-learn/issues/21755 */display: inline-block !important;position: relative;}#sk-container-id-1 div.sk-text-repr-fallback {display: none;}</style><div id=\"sk-container-id-1\" class=\"sk-top-container\"><div class=\"sk-text-repr-fallback\"><pre>LogisticRegression()</pre><b>In a Jupyter environment, please rerun this cell to show the HTML representation or trust the notebook. <br />On GitHub, the HTML representation is unable to render, please try loading this page with nbviewer.org.</b></div><div class=\"sk-container\" hidden><div class=\"sk-item\"><div class=\"sk-estimator sk-toggleable\"><input class=\"sk-toggleable__control sk-hidden--visually\" id=\"sk-estimator-id-1\" type=\"checkbox\" checked><label for=\"sk-estimator-id-1\" class=\"sk-toggleable__label sk-toggleable__label-arrow\">LogisticRegression</label><div class=\"sk-toggleable__content\"><pre>LogisticRegression()</pre></div></div></div></div></div>"
      ],
      "text/plain": [
       "LogisticRegression()"
      ]
     },
     "execution_count": 29,
     "metadata": {},
     "output_type": "execute_result"
    }
   ],
   "source": [
    "classifier.fit(X_train,y_train)"
   ]
  },
  {
   "cell_type": "code",
   "execution_count": 30,
   "id": "0128d975",
   "metadata": {},
   "outputs": [
    {
     "name": "stdout",
     "output_type": "stream",
     "text": [
      "Logistic Regression Accuracy: 0.9552238805970149\n",
      "Logistic Regression Precision: 0.9285714285714286\n",
      "Logistic Regression Recall: 0.6190476190476191\n"
     ]
    }
   ],
   "source": [
    "from sklearn import metrics\n",
    "predicted = classifier.predict(X_test)\n",
    "print(\"Logistic Regression Accuracy:\",metrics.accuracy_score(y_test, predicted))\n",
    "print(\"Logistic Regression Precision:\",metrics.precision_score(y_test, predicted))\n",
    "print(\"Logistic Regression Recall:\",metrics.recall_score(y_test, predicted))"
   ]
  },
  {
   "cell_type": "code",
   "execution_count": null,
   "id": "dec79abf",
   "metadata": {},
   "outputs": [],
   "source": []
  }
 ],
 "metadata": {
  "kernelspec": {
   "display_name": "Python 3 (ipykernel)",
   "language": "python",
   "name": "python3"
  },
  "language_info": {
   "codemirror_mode": {
    "name": "ipython",
    "version": 3
   },
   "file_extension": ".py",
   "mimetype": "text/x-python",
   "name": "python",
   "nbconvert_exporter": "python",
   "pygments_lexer": "ipython3",
   "version": "3.11.7"
  }
 },
 "nbformat": 4,
 "nbformat_minor": 5
}
